{
 "cells": [
  {
   "cell_type": "code",
   "execution_count": 1,
   "id": "2ebc1230",
   "metadata": {
    "_cell_guid": "b1076dfc-b9ad-4769-8c92-a6c4dae69d19",
    "_uuid": "8f2839f25d086af736a60e9eeb907d3b93b6e0e5",
    "execution": {
     "iopub.execute_input": "2022-01-11T17:46:33.178758Z",
     "iopub.status.busy": "2022-01-11T17:46:33.178071Z",
     "iopub.status.idle": "2022-01-11T17:46:34.412760Z",
     "shell.execute_reply": "2022-01-11T17:46:34.413497Z",
     "shell.execute_reply.started": "2022-01-11T17:13:08.749822Z"
    },
    "papermill": {
     "duration": 1.266123,
     "end_time": "2022-01-11T17:46:34.413902",
     "exception": false,
     "start_time": "2022-01-11T17:46:33.147779",
     "status": "completed"
    },
    "tags": []
   },
   "outputs": [],
   "source": [
    "import numpy as np\n",
    "import pandas as pd\n",
    "import seaborn as sns\n",
    "import matplotlib.pyplot as plt\n",
    "\n",
    "from sklearn.model_selection import train_test_split\n",
    "\n",
    "pd.set_option(\"display.max_rows\", None, \"display.max_columns\", None)"
   ]
  },
  {
   "cell_type": "code",
   "execution_count": 2,
   "id": "b2998f03",
   "metadata": {
    "execution": {
     "iopub.execute_input": "2022-01-11T17:46:34.463106Z",
     "iopub.status.busy": "2022-01-11T17:46:34.462069Z",
     "iopub.status.idle": "2022-01-11T17:46:34.500032Z",
     "shell.execute_reply": "2022-01-11T17:46:34.500560Z",
     "shell.execute_reply.started": "2022-01-11T17:13:09.276025Z"
    },
    "papermill": {
     "duration": 0.063577,
     "end_time": "2022-01-11T17:46:34.500786",
     "exception": false,
     "start_time": "2022-01-11T17:46:34.437209",
     "status": "completed"
    },
    "tags": []
   },
   "outputs": [],
   "source": [
    "train = pd.read_csv('/kaggle/input/titanic/train.csv')\n",
    "test = pd.read_csv('/kaggle/input/titanic/test.csv')\n",
    "submission = pd.read_csv('/kaggle/input/titanic/gender_submission.csv')"
   ]
  },
  {
   "cell_type": "code",
   "execution_count": 3,
   "id": "e5653acb",
   "metadata": {
    "execution": {
     "iopub.execute_input": "2022-01-11T17:46:34.550397Z",
     "iopub.status.busy": "2022-01-11T17:46:34.549656Z",
     "iopub.status.idle": "2022-01-11T17:46:34.567249Z",
     "shell.execute_reply": "2022-01-11T17:46:34.567758Z",
     "shell.execute_reply.started": "2022-01-11T17:13:09.302572Z"
    },
    "papermill": {
     "duration": 0.046637,
     "end_time": "2022-01-11T17:46:34.567948",
     "exception": false,
     "start_time": "2022-01-11T17:46:34.521311",
     "status": "completed"
    },
    "tags": []
   },
   "outputs": [
    {
     "data": {
      "text/html": [
       "<div>\n",
       "<style scoped>\n",
       "    .dataframe tbody tr th:only-of-type {\n",
       "        vertical-align: middle;\n",
       "    }\n",
       "\n",
       "    .dataframe tbody tr th {\n",
       "        vertical-align: top;\n",
       "    }\n",
       "\n",
       "    .dataframe thead th {\n",
       "        text-align: right;\n",
       "    }\n",
       "</style>\n",
       "<table border=\"1\" class=\"dataframe\">\n",
       "  <thead>\n",
       "    <tr style=\"text-align: right;\">\n",
       "      <th></th>\n",
       "      <th>PassengerId</th>\n",
       "      <th>Survived</th>\n",
       "      <th>Pclass</th>\n",
       "      <th>Name</th>\n",
       "      <th>Sex</th>\n",
       "      <th>Age</th>\n",
       "      <th>SibSp</th>\n",
       "      <th>Parch</th>\n",
       "      <th>Ticket</th>\n",
       "      <th>Fare</th>\n",
       "      <th>Cabin</th>\n",
       "      <th>Embarked</th>\n",
       "    </tr>\n",
       "  </thead>\n",
       "  <tbody>\n",
       "    <tr>\n",
       "      <th>0</th>\n",
       "      <td>1</td>\n",
       "      <td>0</td>\n",
       "      <td>3</td>\n",
       "      <td>Braund, Mr. Owen Harris</td>\n",
       "      <td>male</td>\n",
       "      <td>22.0</td>\n",
       "      <td>1</td>\n",
       "      <td>0</td>\n",
       "      <td>A/5 21171</td>\n",
       "      <td>7.2500</td>\n",
       "      <td>NaN</td>\n",
       "      <td>S</td>\n",
       "    </tr>\n",
       "    <tr>\n",
       "      <th>1</th>\n",
       "      <td>2</td>\n",
       "      <td>1</td>\n",
       "      <td>1</td>\n",
       "      <td>Cumings, Mrs. John Bradley (Florence Briggs Th...</td>\n",
       "      <td>female</td>\n",
       "      <td>38.0</td>\n",
       "      <td>1</td>\n",
       "      <td>0</td>\n",
       "      <td>PC 17599</td>\n",
       "      <td>71.2833</td>\n",
       "      <td>C85</td>\n",
       "      <td>C</td>\n",
       "    </tr>\n",
       "    <tr>\n",
       "      <th>2</th>\n",
       "      <td>3</td>\n",
       "      <td>1</td>\n",
       "      <td>3</td>\n",
       "      <td>Heikkinen, Miss. Laina</td>\n",
       "      <td>female</td>\n",
       "      <td>26.0</td>\n",
       "      <td>0</td>\n",
       "      <td>0</td>\n",
       "      <td>STON/O2. 3101282</td>\n",
       "      <td>7.9250</td>\n",
       "      <td>NaN</td>\n",
       "      <td>S</td>\n",
       "    </tr>\n",
       "    <tr>\n",
       "      <th>3</th>\n",
       "      <td>4</td>\n",
       "      <td>1</td>\n",
       "      <td>1</td>\n",
       "      <td>Futrelle, Mrs. Jacques Heath (Lily May Peel)</td>\n",
       "      <td>female</td>\n",
       "      <td>35.0</td>\n",
       "      <td>1</td>\n",
       "      <td>0</td>\n",
       "      <td>113803</td>\n",
       "      <td>53.1000</td>\n",
       "      <td>C123</td>\n",
       "      <td>S</td>\n",
       "    </tr>\n",
       "    <tr>\n",
       "      <th>4</th>\n",
       "      <td>5</td>\n",
       "      <td>0</td>\n",
       "      <td>3</td>\n",
       "      <td>Allen, Mr. William Henry</td>\n",
       "      <td>male</td>\n",
       "      <td>35.0</td>\n",
       "      <td>0</td>\n",
       "      <td>0</td>\n",
       "      <td>373450</td>\n",
       "      <td>8.0500</td>\n",
       "      <td>NaN</td>\n",
       "      <td>S</td>\n",
       "    </tr>\n",
       "  </tbody>\n",
       "</table>\n",
       "</div>"
      ],
      "text/plain": [
       "   PassengerId  Survived  Pclass  \\\n",
       "0            1         0       3   \n",
       "1            2         1       1   \n",
       "2            3         1       3   \n",
       "3            4         1       1   \n",
       "4            5         0       3   \n",
       "\n",
       "                                                Name     Sex   Age  SibSp  \\\n",
       "0                            Braund, Mr. Owen Harris    male  22.0      1   \n",
       "1  Cumings, Mrs. John Bradley (Florence Briggs Th...  female  38.0      1   \n",
       "2                             Heikkinen, Miss. Laina  female  26.0      0   \n",
       "3       Futrelle, Mrs. Jacques Heath (Lily May Peel)  female  35.0      1   \n",
       "4                           Allen, Mr. William Henry    male  35.0      0   \n",
       "\n",
       "   Parch            Ticket     Fare Cabin Embarked  \n",
       "0      0         A/5 21171   7.2500   NaN        S  \n",
       "1      0          PC 17599  71.2833   C85        C  \n",
       "2      0  STON/O2. 3101282   7.9250   NaN        S  \n",
       "3      0            113803  53.1000  C123        S  \n",
       "4      0            373450   8.0500   NaN        S  "
      ]
     },
     "execution_count": 3,
     "metadata": {},
     "output_type": "execute_result"
    }
   ],
   "source": [
    "train.head()"
   ]
  },
  {
   "cell_type": "code",
   "execution_count": 4,
   "id": "e370ff86",
   "metadata": {
    "execution": {
     "iopub.execute_input": "2022-01-11T17:46:34.613481Z",
     "iopub.status.busy": "2022-01-11T17:46:34.612823Z",
     "iopub.status.idle": "2022-01-11T17:46:34.619219Z",
     "shell.execute_reply": "2022-01-11T17:46:34.619842Z",
     "shell.execute_reply.started": "2022-01-11T17:13:09.323780Z"
    },
    "papermill": {
     "duration": 0.030427,
     "end_time": "2022-01-11T17:46:34.620030",
     "exception": false,
     "start_time": "2022-01-11T17:46:34.589603",
     "status": "completed"
    },
    "tags": []
   },
   "outputs": [
    {
     "data": {
      "text/plain": [
       "PassengerId      int64\n",
       "Survived         int64\n",
       "Pclass           int64\n",
       "Name            object\n",
       "Sex             object\n",
       "Age            float64\n",
       "SibSp            int64\n",
       "Parch            int64\n",
       "Ticket          object\n",
       "Fare           float64\n",
       "Cabin           object\n",
       "Embarked        object\n",
       "dtype: object"
      ]
     },
     "execution_count": 4,
     "metadata": {},
     "output_type": "execute_result"
    }
   ],
   "source": [
    "train.dtypes"
   ]
  },
  {
   "cell_type": "markdown",
   "id": "8861dc26",
   "metadata": {
    "papermill": {
     "duration": 0.020594,
     "end_time": "2022-01-11T17:46:34.661204",
     "exception": false,
     "start_time": "2022-01-11T17:46:34.640610",
     "status": "completed"
    },
    "tags": []
   },
   "source": [
    "# Age impute statistics"
   ]
  },
  {
   "cell_type": "code",
   "execution_count": 5,
   "id": "c61a0047",
   "metadata": {
    "execution": {
     "iopub.execute_input": "2022-01-11T17:46:34.706035Z",
     "iopub.status.busy": "2022-01-11T17:46:34.705323Z",
     "iopub.status.idle": "2022-01-11T17:46:34.729475Z",
     "shell.execute_reply": "2022-01-11T17:46:34.730002Z",
     "shell.execute_reply.started": "2022-01-11T17:13:09.334228Z"
    },
    "papermill": {
     "duration": 0.048388,
     "end_time": "2022-01-11T17:46:34.730191",
     "exception": false,
     "start_time": "2022-01-11T17:46:34.681803",
     "status": "completed"
    },
    "tags": []
   },
   "outputs": [
    {
     "data": {
      "text/html": [
       "<div>\n",
       "<style scoped>\n",
       "    .dataframe tbody tr th:only-of-type {\n",
       "        vertical-align: middle;\n",
       "    }\n",
       "\n",
       "    .dataframe tbody tr th {\n",
       "        vertical-align: top;\n",
       "    }\n",
       "\n",
       "    .dataframe thead th {\n",
       "        text-align: right;\n",
       "    }\n",
       "</style>\n",
       "<table border=\"1\" class=\"dataframe\">\n",
       "  <thead>\n",
       "    <tr style=\"text-align: right;\">\n",
       "      <th></th>\n",
       "      <th></th>\n",
       "      <th></th>\n",
       "      <th>Age</th>\n",
       "    </tr>\n",
       "    <tr>\n",
       "      <th>Survived</th>\n",
       "      <th>Pclass</th>\n",
       "      <th>Sex</th>\n",
       "      <th></th>\n",
       "    </tr>\n",
       "  </thead>\n",
       "  <tbody>\n",
       "    <tr>\n",
       "      <th rowspan=\"6\" valign=\"top\">0</th>\n",
       "      <th rowspan=\"2\" valign=\"top\">1</th>\n",
       "      <th>female</th>\n",
       "      <td>25.666667</td>\n",
       "    </tr>\n",
       "    <tr>\n",
       "      <th>male</th>\n",
       "      <td>44.581967</td>\n",
       "    </tr>\n",
       "    <tr>\n",
       "      <th rowspan=\"2\" valign=\"top\">2</th>\n",
       "      <th>female</th>\n",
       "      <td>36.000000</td>\n",
       "    </tr>\n",
       "    <tr>\n",
       "      <th>male</th>\n",
       "      <td>33.369048</td>\n",
       "    </tr>\n",
       "    <tr>\n",
       "      <th rowspan=\"2\" valign=\"top\">3</th>\n",
       "      <th>female</th>\n",
       "      <td>23.818182</td>\n",
       "    </tr>\n",
       "    <tr>\n",
       "      <th>male</th>\n",
       "      <td>27.255814</td>\n",
       "    </tr>\n",
       "    <tr>\n",
       "      <th rowspan=\"6\" valign=\"top\">1</th>\n",
       "      <th rowspan=\"2\" valign=\"top\">1</th>\n",
       "      <th>female</th>\n",
       "      <td>34.939024</td>\n",
       "    </tr>\n",
       "    <tr>\n",
       "      <th>male</th>\n",
       "      <td>36.248000</td>\n",
       "    </tr>\n",
       "    <tr>\n",
       "      <th rowspan=\"2\" valign=\"top\">2</th>\n",
       "      <th>female</th>\n",
       "      <td>28.080882</td>\n",
       "    </tr>\n",
       "    <tr>\n",
       "      <th>male</th>\n",
       "      <td>16.022000</td>\n",
       "    </tr>\n",
       "    <tr>\n",
       "      <th rowspan=\"2\" valign=\"top\">3</th>\n",
       "      <th>female</th>\n",
       "      <td>19.329787</td>\n",
       "    </tr>\n",
       "    <tr>\n",
       "      <th>male</th>\n",
       "      <td>22.274211</td>\n",
       "    </tr>\n",
       "  </tbody>\n",
       "</table>\n",
       "</div>"
      ],
      "text/plain": [
       "                              Age\n",
       "Survived Pclass Sex              \n",
       "0        1      female  25.666667\n",
       "                male    44.581967\n",
       "         2      female  36.000000\n",
       "                male    33.369048\n",
       "         3      female  23.818182\n",
       "                male    27.255814\n",
       "1        1      female  34.939024\n",
       "                male    36.248000\n",
       "         2      female  28.080882\n",
       "                male    16.022000\n",
       "         3      female  19.329787\n",
       "                male    22.274211"
      ]
     },
     "execution_count": 5,
     "metadata": {},
     "output_type": "execute_result"
    }
   ],
   "source": [
    "train.groupby(['Survived','Pclass','Sex']).agg({'Age':'mean'})"
   ]
  },
  {
   "cell_type": "markdown",
   "id": "7172f5d8",
   "metadata": {
    "papermill": {
     "duration": 0.022815,
     "end_time": "2022-01-11T17:46:34.774412",
     "exception": false,
     "start_time": "2022-01-11T17:46:34.751597",
     "status": "completed"
    },
    "tags": []
   },
   "source": [
    "# Correlation statistics"
   ]
  },
  {
   "cell_type": "code",
   "execution_count": 6,
   "id": "88541b57",
   "metadata": {
    "execution": {
     "iopub.execute_input": "2022-01-11T17:46:34.821882Z",
     "iopub.status.busy": "2022-01-11T17:46:34.821169Z",
     "iopub.status.idle": "2022-01-11T17:46:35.397723Z",
     "shell.execute_reply": "2022-01-11T17:46:35.398234Z",
     "shell.execute_reply.started": "2022-01-11T17:13:09.356934Z"
    },
    "papermill": {
     "duration": 0.603397,
     "end_time": "2022-01-11T17:46:35.398454",
     "exception": false,
     "start_time": "2022-01-11T17:46:34.795057",
     "status": "completed"
    },
    "tags": []
   },
   "outputs": [
    {
     "data": {
      "text/plain": [
       "<AxesSubplot:>"
      ]
     },
     "execution_count": 6,
     "metadata": {},
     "output_type": "execute_result"
    },
    {
     "data": {
      "image/png": "[encoded data removed]",
      "text/plain": [
       "<Figure size 720x720 with 2 Axes>"
      ]
     },
     "metadata": {
      "needs_background": "light"
     },
     "output_type": "display_data"
    }
   ],
   "source": [
    "corr = train.corr(method ='pearson')\n",
    "fig, ax = plt.subplots(figsize=(10,10))\n",
    "sns.heatmap(corr, xticklabels=corr.columns, yticklabels=corr.columns, annot=True, ax=ax)"
   ]
  },
  {
   "cell_type": "code",
   "execution_count": 7,
   "id": "d401849b",
   "metadata": {
    "execution": {
     "iopub.execute_input": "2022-01-11T17:46:35.447101Z",
     "iopub.status.busy": "2022-01-11T17:46:35.446442Z",
     "iopub.status.idle": "2022-01-11T17:46:35.777797Z",
     "shell.execute_reply": "2022-01-11T17:46:35.778394Z",
     "shell.execute_reply.started": "2022-01-11T17:13:09.910972Z"
    },
    "papermill": {
     "duration": 0.357557,
     "end_time": "2022-01-11T17:46:35.778616",
     "exception": false,
     "start_time": "2022-01-11T17:46:35.421059",
     "status": "completed"
    },
    "tags": []
   },
   "outputs": [
    {
     "data": {
      "text/plain": [
       "<AxesSubplot:>"
      ]
     },
     "execution_count": 7,
     "metadata": {},
     "output_type": "execute_result"
    },
    {
     "data": {
      "image/png": "[encoded data removed]",
      "text/plain": [
       "<Figure size 432x288 with 1 Axes>"
      ]
     },
     "metadata": {
      "needs_background": "light"
     },
     "output_type": "display_data"
    }
   ],
   "source": [
    "sns.heatmap(train.isnull(), cbar=False)"
   ]
  },
  {
   "cell_type": "markdown",
   "id": "4dad1904",
   "metadata": {
    "papermill": {
     "duration": 0.023158,
     "end_time": "2022-01-11T17:46:35.825533",
     "exception": false,
     "start_time": "2022-01-11T17:46:35.802375",
     "status": "completed"
    },
    "tags": []
   },
   "source": [
    "# Imputing age as per statistics"
   ]
  },
  {
   "cell_type": "code",
   "execution_count": 8,
   "id": "a84537bb",
   "metadata": {
    "execution": {
     "iopub.execute_input": "2022-01-11T17:46:35.876575Z",
     "iopub.status.busy": "2022-01-11T17:46:35.875910Z",
     "iopub.status.idle": "2022-01-11T17:46:36.206273Z",
     "shell.execute_reply": "2022-01-11T17:46:36.206824Z",
     "shell.execute_reply.started": "2022-01-11T17:13:10.239390Z"
    },
    "papermill": {
     "duration": 0.35796,
     "end_time": "2022-01-11T17:46:36.207026",
     "exception": false,
     "start_time": "2022-01-11T17:46:35.849066",
     "status": "completed"
    },
    "tags": []
   },
   "outputs": [
    {
     "data": {
      "text/plain": [
       "<AxesSubplot:>"
      ]
     },
     "execution_count": 8,
     "metadata": {},
     "output_type": "execute_result"
    },
    {
     "data": {
      "image/png": "[encoded data removed]",
      "text/plain": [
       "<Figure size 432x288 with 1 Axes>"
      ]
     },
     "metadata": {
      "needs_background": "light"
     },
     "output_type": "display_data"
    }
   ],
   "source": [
    "train['Age'] = train['Age'].fillna(train.groupby(['Survived','Pclass','Sex'])['Age'].transform('mean'))\n",
    "sns.heatmap(train.isnull(), cbar=False)"
   ]
  },
  {
   "cell_type": "code",
   "execution_count": 9,
   "id": "39bc66cd",
   "metadata": {
    "execution": {
     "iopub.execute_input": "2022-01-11T17:46:36.259754Z",
     "iopub.status.busy": "2022-01-11T17:46:36.259054Z",
     "iopub.status.idle": "2022-01-11T17:46:36.569374Z",
     "shell.execute_reply": "2022-01-11T17:46:36.568632Z",
     "shell.execute_reply.started": "2022-01-11T17:13:10.578369Z"
    },
    "papermill": {
     "duration": 0.337785,
     "end_time": "2022-01-11T17:46:36.569533",
     "exception": false,
     "start_time": "2022-01-11T17:46:36.231748",
     "status": "completed"
    },
    "tags": []
   },
   "outputs": [
    {
     "data": {
      "text/plain": [
       "<AxesSubplot:>"
      ]
     },
     "execution_count": 9,
     "metadata": {},
     "output_type": "execute_result"
    },
    {
     "data": {
      "image/png": "[encoded data removed]",
      "text/plain": [
       "<Figure size 432x288 with 1 Axes>"
      ]
     },
     "metadata": {
      "needs_background": "light"
     },
     "output_type": "display_data"
    }
   ],
   "source": [
    "sns.heatmap(test.isnull(), cbar=False)"
   ]
  },
  {
   "cell_type": "code",
   "execution_count": 10,
   "id": "fa5e66aa",
   "metadata": {
    "execution": {
     "iopub.execute_input": "2022-01-11T17:46:36.626875Z",
     "iopub.status.busy": "2022-01-11T17:46:36.625835Z",
     "iopub.status.idle": "2022-01-11T17:46:36.945629Z",
     "shell.execute_reply": "2022-01-11T17:46:36.945029Z",
     "shell.execute_reply.started": "2022-01-11T17:13:10.898758Z"
    },
    "papermill": {
     "duration": 0.350672,
     "end_time": "2022-01-11T17:46:36.945787",
     "exception": false,
     "start_time": "2022-01-11T17:46:36.595115",
     "status": "completed"
    },
    "tags": []
   },
   "outputs": [
    {
     "data": {
      "text/plain": [
       "<AxesSubplot:>"
      ]
     },
     "execution_count": 10,
     "metadata": {},
     "output_type": "execute_result"
    },
    {
     "data": {
      "image/png": "[encoded data removed]",
      "text/plain": [
       "<Figure size 432x288 with 1 Axes>"
      ]
     },
     "metadata": {
      "needs_background": "light"
     },
     "output_type": "display_data"
    }
   ],
   "source": [
    "test['Age'] = test['Age'].fillna(train.groupby(['Pclass','Sex'])['Age'].transform('mean'))\n",
    "sns.heatmap(test.isnull(), cbar=False)"
   ]
  },
  {
   "cell_type": "markdown",
   "id": "8f671824",
   "metadata": {
    "papermill": {
     "duration": 0.027136,
     "end_time": "2022-01-11T17:46:37.000044",
     "exception": false,
     "start_time": "2022-01-11T17:46:36.972908",
     "status": "completed"
    },
    "tags": []
   },
   "source": [
    "# Droping unnecessary clumns from both dataset"
   ]
  },
  {
   "cell_type": "code",
   "execution_count": 11,
   "id": "4447d4fb",
   "metadata": {
    "execution": {
     "iopub.execute_input": "2022-01-11T17:46:37.071439Z",
     "iopub.status.busy": "2022-01-11T17:46:37.070707Z",
     "iopub.status.idle": "2022-01-11T17:46:37.074384Z",
     "shell.execute_reply": "2022-01-11T17:46:37.073855Z",
     "shell.execute_reply.started": "2022-01-11T17:13:11.227517Z"
    },
    "papermill": {
     "duration": 0.047849,
     "end_time": "2022-01-11T17:46:37.074564",
     "exception": false,
     "start_time": "2022-01-11T17:46:37.026715",
     "status": "completed"
    },
    "tags": []
   },
   "outputs": [],
   "source": [
    "train.drop(['Cabin'], axis = 1, inplace=True)\n",
    "train.drop(['Ticket'], axis = 1, inplace=True)\n",
    "train.drop(['Name'], axis = 1, inplace=True)\n",
    "train.drop(['PassengerId'], axis = 1, inplace=True)\n",
    "test.drop(['Cabin'], axis = 1, inplace=True)\n",
    "test.drop(['Ticket'], axis = 1, inplace=True)\n",
    "test.drop(['Name'], axis = 1, inplace=True)\n",
    "test_Id  = test.PassengerId\n",
    "test.drop(['PassengerId'], axis = 1, inplace=True)"
   ]
  },
  {
   "cell_type": "markdown",
   "id": "68047825",
   "metadata": {
    "papermill": {
     "duration": 0.025881,
     "end_time": "2022-01-11T17:46:37.126856",
     "exception": false,
     "start_time": "2022-01-11T17:46:37.100975",
     "status": "completed"
    },
    "tags": []
   },
   "source": [
    "# Mode of Embarked column(to impute training data-set)"
   ]
  },
  {
   "cell_type": "code",
   "execution_count": 12,
   "id": "8860a20d",
   "metadata": {
    "execution": {
     "iopub.execute_input": "2022-01-11T17:46:37.189776Z",
     "iopub.status.busy": "2022-01-11T17:46:37.189106Z",
     "iopub.status.idle": "2022-01-11T17:46:37.192539Z",
     "shell.execute_reply": "2022-01-11T17:46:37.191742Z",
     "shell.execute_reply.started": "2022-01-11T17:13:11.243652Z"
    },
    "papermill": {
     "duration": 0.03861,
     "end_time": "2022-01-11T17:46:37.192699",
     "exception": false,
     "start_time": "2022-01-11T17:46:37.154089",
     "status": "completed"
    },
    "tags": []
   },
   "outputs": [
    {
     "data": {
      "text/plain": [
       "0    S\n",
       "dtype: object"
      ]
     },
     "execution_count": 12,
     "metadata": {},
     "output_type": "execute_result"
    }
   ],
   "source": [
    "train.Embarked.mode()"
   ]
  },
  {
   "cell_type": "code",
   "execution_count": 13,
   "id": "ea824933",
   "metadata": {
    "execution": {
     "iopub.execute_input": "2022-01-11T17:46:37.249534Z",
     "iopub.status.busy": "2022-01-11T17:46:37.248896Z",
     "iopub.status.idle": "2022-01-11T17:46:37.253235Z",
     "shell.execute_reply": "2022-01-11T17:46:37.253763Z",
     "shell.execute_reply.started": "2022-01-11T17:13:11.267758Z"
    },
    "papermill": {
     "duration": 0.034363,
     "end_time": "2022-01-11T17:46:37.253953",
     "exception": false,
     "start_time": "2022-01-11T17:46:37.219590",
     "status": "completed"
    },
    "tags": []
   },
   "outputs": [],
   "source": [
    "# train[train.isnull().any(axis=1)] # to check row with NaN value\n",
    "train['Embarked'].fillna('S', inplace=True) # imputing with 'S'"
   ]
  },
  {
   "cell_type": "markdown",
   "id": "cba86c3e",
   "metadata": {
    "papermill": {
     "duration": 0.027028,
     "end_time": "2022-01-11T17:46:37.307784",
     "exception": false,
     "start_time": "2022-01-11T17:46:37.280756",
     "status": "completed"
    },
    "tags": []
   },
   "source": [
    "# Fare of passanger based on Pclass(For imputing on testing data)"
   ]
  },
  {
   "cell_type": "code",
   "execution_count": 14,
   "id": "ba3f27af",
   "metadata": {
    "execution": {
     "iopub.execute_input": "2022-01-11T17:46:37.368045Z",
     "iopub.status.busy": "2022-01-11T17:46:37.367280Z",
     "iopub.status.idle": "2022-01-11T17:46:37.375124Z",
     "shell.execute_reply": "2022-01-11T17:46:37.375632Z",
     "shell.execute_reply.started": "2022-01-11T17:13:11.280321Z"
    },
    "papermill": {
     "duration": 0.04118,
     "end_time": "2022-01-11T17:46:37.375828",
     "exception": false,
     "start_time": "2022-01-11T17:46:37.334648",
     "status": "completed"
    },
    "tags": []
   },
   "outputs": [
    {
     "data": {
      "text/html": [
       "<div>\n",
       "<style scoped>\n",
       "    .dataframe tbody tr th:only-of-type {\n",
       "        vertical-align: middle;\n",
       "    }\n",
       "\n",
       "    .dataframe tbody tr th {\n",
       "        vertical-align: top;\n",
       "    }\n",
       "\n",
       "    .dataframe thead th {\n",
       "        text-align: right;\n",
       "    }\n",
       "</style>\n",
       "<table border=\"1\" class=\"dataframe\">\n",
       "  <thead>\n",
       "    <tr style=\"text-align: right;\">\n",
       "      <th></th>\n",
       "      <th>Fare</th>\n",
       "    </tr>\n",
       "    <tr>\n",
       "      <th>Pclass</th>\n",
       "      <th></th>\n",
       "    </tr>\n",
       "  </thead>\n",
       "  <tbody>\n",
       "    <tr>\n",
       "      <th>1</th>\n",
       "      <td>84.154687</td>\n",
       "    </tr>\n",
       "    <tr>\n",
       "      <th>2</th>\n",
       "      <td>20.662183</td>\n",
       "    </tr>\n",
       "    <tr>\n",
       "      <th>3</th>\n",
       "      <td>13.675550</td>\n",
       "    </tr>\n",
       "  </tbody>\n",
       "</table>\n",
       "</div>"
      ],
      "text/plain": [
       "             Fare\n",
       "Pclass           \n",
       "1       84.154687\n",
       "2       20.662183\n",
       "3       13.675550"
      ]
     },
     "execution_count": 14,
     "metadata": {},
     "output_type": "execute_result"
    }
   ],
   "source": [
    "train.groupby(['Pclass']).agg({'Fare':'mean'})"
   ]
  },
  {
   "cell_type": "code",
   "execution_count": 15,
   "id": "6490e208",
   "metadata": {
    "execution": {
     "iopub.execute_input": "2022-01-11T17:46:37.433601Z",
     "iopub.status.busy": "2022-01-11T17:46:37.432973Z",
     "iopub.status.idle": "2022-01-11T17:46:37.437481Z",
     "shell.execute_reply": "2022-01-11T17:46:37.437940Z",
     "shell.execute_reply.started": "2022-01-11T17:13:11.296549Z"
    },
    "papermill": {
     "duration": 0.035596,
     "end_time": "2022-01-11T17:46:37.438127",
     "exception": false,
     "start_time": "2022-01-11T17:46:37.402531",
     "status": "completed"
    },
    "tags": []
   },
   "outputs": [],
   "source": [
    "# test[test.isnull().any(axis=1)] # to check row with NaN value\n",
    "test['Fare'].fillna(13.675, inplace=True) # imputing with '13.675'"
   ]
  },
  {
   "cell_type": "markdown",
   "id": "99720e64",
   "metadata": {
    "papermill": {
     "duration": 0.026487,
     "end_time": "2022-01-11T17:46:37.491410",
     "exception": false,
     "start_time": "2022-01-11T17:46:37.464923",
     "status": "completed"
    },
    "tags": []
   },
   "source": [
    "# Changing sex from text to number"
   ]
  },
  {
   "cell_type": "code",
   "execution_count": 16,
   "id": "bf9feeee",
   "metadata": {
    "execution": {
     "iopub.execute_input": "2022-01-11T17:46:37.551527Z",
     "iopub.status.busy": "2022-01-11T17:46:37.550828Z",
     "iopub.status.idle": "2022-01-11T17:46:37.555597Z",
     "shell.execute_reply": "2022-01-11T17:46:37.556065Z",
     "shell.execute_reply.started": "2022-01-11T17:13:11.304444Z"
    },
    "papermill": {
     "duration": 0.038326,
     "end_time": "2022-01-11T17:46:37.556249",
     "exception": false,
     "start_time": "2022-01-11T17:46:37.517923",
     "status": "completed"
    },
    "tags": []
   },
   "outputs": [],
   "source": [
    "train['Sex'].replace({'male':1, 'female':0}, inplace=True)\n",
    "test['Sex'].replace({'male':1, 'female':0}, inplace=True)"
   ]
  },
  {
   "cell_type": "markdown",
   "id": "02239370",
   "metadata": {
    "papermill": {
     "duration": 0.027252,
     "end_time": "2022-01-11T17:46:37.611034",
     "exception": false,
     "start_time": "2022-01-11T17:46:37.583782",
     "status": "completed"
    },
    "tags": []
   },
   "source": [
    "# One hot encoding for Embarked column"
   ]
  },
  {
   "cell_type": "code",
   "execution_count": 17,
   "id": "e3105c6a",
   "metadata": {
    "execution": {
     "iopub.execute_input": "2022-01-11T17:46:37.671538Z",
     "iopub.status.busy": "2022-01-11T17:46:37.668408Z",
     "iopub.status.idle": "2022-01-11T17:46:37.688064Z",
     "shell.execute_reply": "2022-01-11T17:46:37.688551Z",
     "shell.execute_reply.started": "2022-01-11T17:13:11.319488Z"
    },
    "papermill": {
     "duration": 0.050982,
     "end_time": "2022-01-11T17:46:37.688747",
     "exception": false,
     "start_time": "2022-01-11T17:46:37.637765",
     "status": "completed"
    },
    "tags": []
   },
   "outputs": [
    {
     "data": {
      "text/html": [
       "<div>\n",
       "<style scoped>\n",
       "    .dataframe tbody tr th:only-of-type {\n",
       "        vertical-align: middle;\n",
       "    }\n",
       "\n",
       "    .dataframe tbody tr th {\n",
       "        vertical-align: top;\n",
       "    }\n",
       "\n",
       "    .dataframe thead th {\n",
       "        text-align: right;\n",
       "    }\n",
       "</style>\n",
       "<table border=\"1\" class=\"dataframe\">\n",
       "  <thead>\n",
       "    <tr style=\"text-align: right;\">\n",
       "      <th></th>\n",
       "      <th>Q</th>\n",
       "      <th>S</th>\n",
       "    </tr>\n",
       "  </thead>\n",
       "  <tbody>\n",
       "    <tr>\n",
       "      <th>0</th>\n",
       "      <td>1</td>\n",
       "      <td>0</td>\n",
       "    </tr>\n",
       "    <tr>\n",
       "      <th>1</th>\n",
       "      <td>0</td>\n",
       "      <td>1</td>\n",
       "    </tr>\n",
       "    <tr>\n",
       "      <th>2</th>\n",
       "      <td>1</td>\n",
       "      <td>0</td>\n",
       "    </tr>\n",
       "    <tr>\n",
       "      <th>3</th>\n",
       "      <td>0</td>\n",
       "      <td>1</td>\n",
       "    </tr>\n",
       "    <tr>\n",
       "      <th>4</th>\n",
       "      <td>0</td>\n",
       "      <td>1</td>\n",
       "    </tr>\n",
       "  </tbody>\n",
       "</table>\n",
       "</div>"
      ],
      "text/plain": [
       "   Q  S\n",
       "0  1  0\n",
       "1  0  1\n",
       "2  1  0\n",
       "3  0  1\n",
       "4  0  1"
      ]
     },
     "execution_count": 17,
     "metadata": {},
     "output_type": "execute_result"
    }
   ],
   "source": [
    "# training data\n",
    "one_hot_embarked = pd.get_dummies(train['Embarked'], drop_first=True)\n",
    "train = train.drop('Embarked',axis = 1)\n",
    "train = train.join(one_hot_embarked)\n",
    "one_hot_embarked.head()\n",
    "# testing data\n",
    "one_hot_embarked = pd.get_dummies(test['Embarked'], drop_first=True)\n",
    "test = test.drop('Embarked',axis = 1)\n",
    "test = test.join(one_hot_embarked)\n",
    "one_hot_embarked.head()"
   ]
  },
  {
   "cell_type": "markdown",
   "id": "c281c2a8",
   "metadata": {
    "papermill": {
     "duration": 0.028212,
     "end_time": "2022-01-11T17:46:37.744457",
     "exception": false,
     "start_time": "2022-01-11T17:46:37.716245",
     "status": "completed"
    },
    "tags": []
   },
   "source": [
    "# Removing survived column"
   ]
  },
  {
   "cell_type": "code",
   "execution_count": 18,
   "id": "7e85792f",
   "metadata": {
    "execution": {
     "iopub.execute_input": "2022-01-11T17:46:37.807499Z",
     "iopub.status.busy": "2022-01-11T17:46:37.805106Z",
     "iopub.status.idle": "2022-01-11T17:46:37.809548Z",
     "shell.execute_reply": "2022-01-11T17:46:37.810049Z",
     "shell.execute_reply.started": "2022-01-11T17:13:11.343160Z"
    },
    "papermill": {
     "duration": 0.038502,
     "end_time": "2022-01-11T17:46:37.810245",
     "exception": false,
     "start_time": "2022-01-11T17:46:37.771743",
     "status": "completed"
    },
    "tags": []
   },
   "outputs": [],
   "source": [
    "y = train['Survived']\n",
    "X = train.drop(['Survived'], axis = 1)"
   ]
  },
  {
   "cell_type": "markdown",
   "id": "82cbfc13",
   "metadata": {
    "papermill": {
     "duration": 0.026845,
     "end_time": "2022-01-11T17:46:37.865121",
     "exception": false,
     "start_time": "2022-01-11T17:46:37.838276",
     "status": "completed"
    },
    "tags": []
   },
   "source": [
    "# Data alignment"
   ]
  },
  {
   "cell_type": "code",
   "execution_count": 19,
   "id": "64efa027",
   "metadata": {
    "execution": {
     "iopub.execute_input": "2022-01-11T17:46:37.925211Z",
     "iopub.status.busy": "2022-01-11T17:46:37.924548Z",
     "iopub.status.idle": "2022-01-11T17:46:37.927384Z",
     "shell.execute_reply": "2022-01-11T17:46:37.927852Z",
     "shell.execute_reply.started": "2022-01-11T17:13:11.354583Z"
    },
    "papermill": {
     "duration": 0.035561,
     "end_time": "2022-01-11T17:46:37.928048",
     "exception": false,
     "start_time": "2022-01-11T17:46:37.892487",
     "status": "completed"
    },
    "tags": []
   },
   "outputs": [],
   "source": [
    "X, test = X.align(test, join='left', axis=1)"
   ]
  },
  {
   "cell_type": "markdown",
   "id": "e6787f6b",
   "metadata": {
    "papermill": {
     "duration": 0.026614,
     "end_time": "2022-01-11T17:46:37.981663",
     "exception": false,
     "start_time": "2022-01-11T17:46:37.955049",
     "status": "completed"
    },
    "tags": []
   },
   "source": [
    "# Data splitting"
   ]
  },
  {
   "cell_type": "code",
   "execution_count": 20,
   "id": "179a6305",
   "metadata": {
    "execution": {
     "iopub.execute_input": "2022-01-11T17:46:38.041662Z",
     "iopub.status.busy": "2022-01-11T17:46:38.040872Z",
     "iopub.status.idle": "2022-01-11T17:46:38.047369Z",
     "shell.execute_reply": "2022-01-11T17:46:38.046738Z",
     "shell.execute_reply.started": "2022-01-11T17:13:11.377233Z"
    },
    "papermill": {
     "duration": 0.03894,
     "end_time": "2022-01-11T17:46:38.047537",
     "exception": false,
     "start_time": "2022-01-11T17:46:38.008597",
     "status": "completed"
    },
    "tags": []
   },
   "outputs": [],
   "source": [
    "x_train, x_val, y_train, y_val = train_test_split(X, y, random_state=20, test_size=0.20)"
   ]
  },
  {
   "cell_type": "markdown",
   "id": "c24b37a7",
   "metadata": {
    "papermill": {
     "duration": 0.027962,
     "end_time": "2022-01-11T17:46:38.103621",
     "exception": false,
     "start_time": "2022-01-11T17:46:38.075659",
     "status": "completed"
    },
    "tags": []
   },
   "source": [
    "# Data pre-processing is done\n",
    "Training Data\n",
    "* **x_train**\n",
    "* **x_val**\n",
    "* **y_train**\n",
    "* **y_val**\n",
    "\n",
    "Submission Data\n",
    "* **test**"
   ]
  },
  {
   "cell_type": "code",
   "execution_count": 21,
   "id": "dd15df35",
   "metadata": {
    "execution": {
     "iopub.execute_input": "2022-01-11T17:46:38.163599Z",
     "iopub.status.busy": "2022-01-11T17:46:38.162545Z",
     "iopub.status.idle": "2022-01-11T17:46:39.213736Z",
     "shell.execute_reply": "2022-01-11T17:46:39.213154Z",
     "shell.execute_reply.started": "2022-01-11T17:44:35.583235Z"
    },
    "papermill": {
     "duration": 1.082869,
     "end_time": "2022-01-11T17:46:39.213903",
     "exception": false,
     "start_time": "2022-01-11T17:46:38.131034",
     "status": "completed"
    },
    "tags": []
   },
   "outputs": [
    {
     "data": {
      "text/plain": [
       "0.134597930197311"
      ]
     },
     "execution_count": 21,
     "metadata": {},
     "output_type": "execute_result"
    }
   ],
   "source": [
    "from sklearn.ensemble import RandomForestRegressor\n",
    "from sklearn.metrics import mean_squared_error\n",
    "\n",
    "rf = RandomForestRegressor(n_estimators = 500, random_state = 0, max_depth=2)\n",
    "rf.fit(x_train, y_train)\n",
    "\n",
    "y_predict = rf.predict(x_val)\n",
    "mean_squared_error(y_val,y_predict)"
   ]
  },
  {
   "cell_type": "markdown",
   "id": "35a18d13",
   "metadata": {
    "papermill": {
     "duration": 0.028281,
     "end_time": "2022-01-11T17:46:39.271310",
     "exception": false,
     "start_time": "2022-01-11T17:46:39.243029",
     "status": "completed"
    },
    "tags": []
   },
   "source": [
    "# Submission"
   ]
  },
  {
   "cell_type": "code",
   "execution_count": 22,
   "id": "55a9d099",
   "metadata": {
    "execution": {
     "iopub.execute_input": "2022-01-11T17:46:39.332624Z",
     "iopub.status.busy": "2022-01-11T17:46:39.331865Z",
     "iopub.status.idle": "2022-01-11T17:46:39.339115Z",
     "shell.execute_reply": "2022-01-11T17:46:39.339640Z",
     "shell.execute_reply.started": "2022-01-11T17:13:13.620324Z"
    },
    "papermill": {
     "duration": 0.040148,
     "end_time": "2022-01-11T17:46:39.339833",
     "exception": false,
     "start_time": "2022-01-11T17:46:39.299685",
     "status": "completed"
    },
    "tags": []
   },
   "outputs": [
    {
     "data": {
      "text/html": [
       "<div>\n",
       "<style scoped>\n",
       "    .dataframe tbody tr th:only-of-type {\n",
       "        vertical-align: middle;\n",
       "    }\n",
       "\n",
       "    .dataframe tbody tr th {\n",
       "        vertical-align: top;\n",
       "    }\n",
       "\n",
       "    .dataframe thead th {\n",
       "        text-align: right;\n",
       "    }\n",
       "</style>\n",
       "<table border=\"1\" class=\"dataframe\">\n",
       "  <thead>\n",
       "    <tr style=\"text-align: right;\">\n",
       "      <th></th>\n",
       "      <th>PassengerId</th>\n",
       "      <th>Survived</th>\n",
       "    </tr>\n",
       "  </thead>\n",
       "  <tbody>\n",
       "    <tr>\n",
       "      <th>0</th>\n",
       "      <td>892</td>\n",
       "      <td>0</td>\n",
       "    </tr>\n",
       "    <tr>\n",
       "      <th>1</th>\n",
       "      <td>893</td>\n",
       "      <td>1</td>\n",
       "    </tr>\n",
       "    <tr>\n",
       "      <th>2</th>\n",
       "      <td>894</td>\n",
       "      <td>0</td>\n",
       "    </tr>\n",
       "    <tr>\n",
       "      <th>3</th>\n",
       "      <td>895</td>\n",
       "      <td>0</td>\n",
       "    </tr>\n",
       "    <tr>\n",
       "      <th>4</th>\n",
       "      <td>896</td>\n",
       "      <td>1</td>\n",
       "    </tr>\n",
       "  </tbody>\n",
       "</table>\n",
       "</div>"
      ],
      "text/plain": [
       "   PassengerId  Survived\n",
       "0          892         0\n",
       "1          893         1\n",
       "2          894         0\n",
       "3          895         0\n",
       "4          896         1"
      ]
     },
     "execution_count": 22,
     "metadata": {},
     "output_type": "execute_result"
    }
   ],
   "source": [
    "submission.head()"
   ]
  },
  {
   "cell_type": "markdown",
   "id": "418e6037",
   "metadata": {
    "papermill": {
     "duration": 0.028612,
     "end_time": "2022-01-11T17:46:39.397413",
     "exception": false,
     "start_time": "2022-01-11T17:46:39.368801",
     "status": "completed"
    },
    "tags": []
   },
   "source": [
    "# 100% Data usage before prediction"
   ]
  },
  {
   "cell_type": "code",
   "execution_count": 23,
   "id": "e53fa2e1",
   "metadata": {
    "execution": {
     "iopub.execute_input": "2022-01-11T17:46:39.456766Z",
     "iopub.status.busy": "2022-01-11T17:46:39.456150Z",
     "iopub.status.idle": "2022-01-11T17:46:40.181586Z",
     "shell.execute_reply": "2022-01-11T17:46:40.182149Z",
     "shell.execute_reply.started": "2022-01-11T17:34:37.415169Z"
    },
    "papermill": {
     "duration": 0.757054,
     "end_time": "2022-01-11T17:46:40.182370",
     "exception": false,
     "start_time": "2022-01-11T17:46:39.425316",
     "status": "completed"
    },
    "tags": []
   },
   "outputs": [],
   "source": [
    "rf.fit(X, y)\n",
    "submission_pred = rf.predict(test).round().astype(int)"
   ]
  },
  {
   "cell_type": "code",
   "execution_count": 24,
   "id": "c4e3b7bd",
   "metadata": {
    "execution": {
     "iopub.execute_input": "2022-01-11T17:46:40.245408Z",
     "iopub.status.busy": "2022-01-11T17:46:40.244340Z",
     "iopub.status.idle": "2022-01-11T17:46:40.250723Z",
     "shell.execute_reply": "2022-01-11T17:46:40.250062Z",
     "shell.execute_reply.started": "2022-01-11T17:13:15.784269Z"
    },
    "papermill": {
     "duration": 0.040372,
     "end_time": "2022-01-11T17:46:40.250876",
     "exception": false,
     "start_time": "2022-01-11T17:46:40.210504",
     "status": "completed"
    },
    "tags": []
   },
   "outputs": [],
   "source": [
    "output = pd.DataFrame({'PassengerId': test_Id, 'Survived': submission_pred})\n",
    "output.to_csv('submission.csv', index=False)"
   ]
  }
 ],
 "metadata": {
  "kernelspec": {
   "display_name": "Python 3",
   "language": "python",
   "name": "python3"
  },
  "language_info": {
   "codemirror_mode": {
    "name": "ipython",
    "version": 3
   },
   "file_extension": ".py",
   "mimetype": "text/x-python",
   "name": "python",
   "nbconvert_exporter": "python",
   "pygments_lexer": "ipython3",
   "version": "3.7.12"
  },
  "papermill": {
   "default_parameters": {},
   "duration": 17.287443,
   "end_time": "2022-01-11T17:46:41.091978",
   "environment_variables": {},
   "exception": null,
   "input_path": "__notebook__.ipynb",
   "output_path": "__notebook__.ipynb",
   "parameters": {},
   "start_time": "2022-01-11T17:46:23.804535",
   "version": "2.3.3"
  }
 },
 "nbformat": 4,
 "nbformat_minor": 5
}
